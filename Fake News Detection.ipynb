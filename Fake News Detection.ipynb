{
 "cells": [
  {
   "cell_type": "markdown",
   "id": "9360f8ab",
   "metadata": {},
   "source": [
    "# About the Dataset:\n",
    "\n",
    "1. id: unique id for a news article\n",
    "2. title: the title of a news article\n",
    "3. author: author of the news article\n",
    "4. text: the text of the article; could be incomplete\n",
    "5. label: a label that marks whether the news article is real or fake:\n",
    "           1: Fake news\n",
    "           0: real News\n",
    "\n",
    "\n",
    "\n"
   ]
  },
  {
   "cell_type": "markdown",
   "id": "1975e531",
   "metadata": {},
   "source": [
    "## Importing the Dependencies"
   ]
  },
  {
   "cell_type": "code",
   "execution_count": 1,
   "id": "fd4cf3ab",
   "metadata": {},
   "outputs": [],
   "source": [
    "import numpy as np\n",
    "import pandas as pd\n",
    "import re\n",
    "from nltk.corpus import stopwords\n",
    "from nltk.stem.porter import PorterStemmer\n",
    "from sklearn.feature_extraction.text import TfidfVectorizer\n",
    "from sklearn.model_selection import train_test_split\n",
    "from sklearn.linear_model import LogisticRegression\n",
    "from sklearn.metrics import accuracy_score"
   ]
  },
  {
   "cell_type": "code",
   "execution_count": 2,
   "id": "f384a3d2",
   "metadata": {},
   "outputs": [
    {
     "name": "stderr",
     "output_type": "stream",
     "text": [
      "[nltk_data] Downloading package stopwords to\n",
      "[nltk_data]     C:\\Users\\LENOVO\\AppData\\Roaming\\nltk_data...\n",
      "[nltk_data]   Unzipping corpora\\stopwords.zip.\n"
     ]
    },
    {
     "data": {
      "text/plain": [
       "True"
      ]
     },
     "execution_count": 2,
     "metadata": {},
     "output_type": "execute_result"
    }
   ],
   "source": [
    "import nltk\n",
    "nltk.download('stopwords')"
   ]
  },
  {
   "cell_type": "code",
   "execution_count": 3,
   "id": "d28ef450",
   "metadata": {},
   "outputs": [
    {
     "name": "stdout",
     "output_type": "stream",
     "text": [
      "['i', 'me', 'my', 'myself', 'we', 'our', 'ours', 'ourselves', 'you', \"you're\", \"you've\", \"you'll\", \"you'd\", 'your', 'yours', 'yourself', 'yourselves', 'he', 'him', 'his', 'himself', 'she', \"she's\", 'her', 'hers', 'herself', 'it', \"it's\", 'its', 'itself', 'they', 'them', 'their', 'theirs', 'themselves', 'what', 'which', 'who', 'whom', 'this', 'that', \"that'll\", 'these', 'those', 'am', 'is', 'are', 'was', 'were', 'be', 'been', 'being', 'have', 'has', 'had', 'having', 'do', 'does', 'did', 'doing', 'a', 'an', 'the', 'and', 'but', 'if', 'or', 'because', 'as', 'until', 'while', 'of', 'at', 'by', 'for', 'with', 'about', 'against', 'between', 'into', 'through', 'during', 'before', 'after', 'above', 'below', 'to', 'from', 'up', 'down', 'in', 'out', 'on', 'off', 'over', 'under', 'again', 'further', 'then', 'once', 'here', 'there', 'when', 'where', 'why', 'how', 'all', 'any', 'both', 'each', 'few', 'more', 'most', 'other', 'some', 'such', 'no', 'nor', 'not', 'only', 'own', 'same', 'so', 'than', 'too', 'very', 's', 't', 'can', 'will', 'just', 'don', \"don't\", 'should', \"should've\", 'now', 'd', 'll', 'm', 'o', 're', 've', 'y', 'ain', 'aren', \"aren't\", 'couldn', \"couldn't\", 'didn', \"didn't\", 'doesn', \"doesn't\", 'hadn', \"hadn't\", 'hasn', \"hasn't\", 'haven', \"haven't\", 'isn', \"isn't\", 'ma', 'mightn', \"mightn't\", 'mustn', \"mustn't\", 'needn', \"needn't\", 'shan', \"shan't\", 'shouldn', \"shouldn't\", 'wasn', \"wasn't\", 'weren', \"weren't\", 'won', \"won't\", 'wouldn', \"wouldn't\"]\n"
     ]
    }
   ],
   "source": [
    "# printing the stopwords in English\n",
    "print(stopwords.words('english'))"
   ]
  },
  {
   "cell_type": "markdown",
   "id": "9fdbe4bd",
   "metadata": {},
   "source": [
    "## `Data Pre-processing"
   ]
  },
  {
   "cell_type": "code",
   "execution_count": null,
   "id": "f66aa386",
   "metadata": {},
   "outputs": [],
   "source": [
    "# loading the dataset to a pandas DataFrame\n",
    "news_dataset = pd.read_csv('/content/train.csv')"
   ]
  },
  {
   "cell_type": "code",
   "execution_count": null,
   "id": "19191293",
   "metadata": {},
   "outputs": [],
   "source": [
    "news_dataset.shape"
   ]
  },
  {
   "cell_type": "raw",
   "id": "5a6ad868",
   "metadata": {},
   "source": [
    "(20800, 5)"
   ]
  },
  {
   "cell_type": "code",
   "execution_count": null,
   "id": "54d4e7a9",
   "metadata": {},
   "outputs": [],
   "source": [
    "# print the first 5 rows of the dataframe\n",
    "news_dataset.head()"
   ]
  },
  {
   "cell_type": "markdown",
   "id": "d3ebaeb6",
   "metadata": {},
   "source": [
    "id\ttitle\tauthor\ttext\tlabel\n",
    "0\t0\tHouse Dem Aide: We Didn’t Even See Comey’s Let...\tDarrell Lucus\tHouse Dem Aide: We Didn’t Even See Comey’s Let...\t1\n",
    "1\t1\tFLYNN: Hillary Clinton, Big Woman on Campus - ...\tDaniel J. Flynn\tEver get the feeling your life circles the rou...\t0\n",
    "2\t2\tWhy the Truth Might Get You Fired\tConsortiumnews.com\tWhy the Truth Might Get You Fired October 29, ...\t1\n",
    "3\t3\t15 Civilians Killed In Single US Airstrike Hav...\tJessica Purkiss\tVideos 15 Civilians Killed In Single US Airstr...\t1\n",
    "4\t4\tIranian woman jailed for fictional unpublished...\tHoward Portnoy\tPrint \\nAn Iranian woman has been sentenced to...\t1"
   ]
  },
  {
   "cell_type": "code",
   "execution_count": null,
   "id": "dbb00c24",
   "metadata": {},
   "outputs": [],
   "source": [
    "# counting the number of missing values in the dataset\n",
    "news_dataset.isnull().sum()"
   ]
  },
  {
   "cell_type": "markdown",
   "id": "6c0dfae3",
   "metadata": {},
   "source": [
    "id           0\n",
    "title      558\n",
    "author    1957\n",
    "text        39\n",
    "label        0\n",
    "dtype: int64"
   ]
  },
  {
   "cell_type": "code",
   "execution_count": null,
   "id": "78ff73e9",
   "metadata": {},
   "outputs": [],
   "source": [
    "# replacing the null values with empty string\n",
    "news_dataset = news_dataset.fillna('')"
   ]
  },
  {
   "cell_type": "code",
   "execution_count": null,
   "id": "39baf98b",
   "metadata": {},
   "outputs": [],
   "source": [
    "# merging the author name and news title\n",
    "news_dataset['content'] = news_dataset['author']+' '+news_dataset['title']"
   ]
  },
  {
   "cell_type": "code",
   "execution_count": null,
   "id": "2cf6c005",
   "metadata": {},
   "outputs": [],
   "source": [
    "print(news_dataset['content'])"
   ]
  },
  {
   "cell_type": "markdown",
   "id": "7f65d0ab",
   "metadata": {},
   "source": [
    "0        Darrell Lucus House Dem Aide: We Didn’t Even S...\n",
    "1        Daniel J. Flynn FLYNN: Hillary Clinton, Big Wo...\n",
    "2        Consortiumnews.com Why the Truth Might Get You...\n",
    "3        Jessica Purkiss 15 Civilians Killed In Single ...\n",
    "4        Howard Portnoy Iranian woman jailed for fictio...\n",
    "                               ...                        \n",
    "20795    Jerome Hudson Rapper T.I.: Trump a ’Poster Chi...\n",
    "20796    Benjamin Hoffman N.F.L. Playoffs: Schedule, Ma...\n",
    "20797    Michael J. de la Merced and Rachel Abrams Macy...\n",
    "20798    Alex Ansary NATO, Russia To Hold Parallel Exer...\n",
    "20799              David Swanson What Keeps the F-35 Alive\n",
    "Name: content, Length: 20800, dtype: object"
   ]
  },
  {
   "cell_type": "code",
   "execution_count": null,
   "id": "6a201afe",
   "metadata": {},
   "outputs": [],
   "source": [
    "# separating the data & label\n",
    "X = news_dataset.drop(columns='label', axis=1)\n",
    "Y = news_dataset['label']"
   ]
  },
  {
   "cell_type": "code",
   "execution_count": null,
   "id": "f896ab24",
   "metadata": {},
   "outputs": [],
   "source": [
    "print(X)\n",
    "print(Y)"
   ]
  },
  {
   "cell_type": "markdown",
   "id": "be8f1fe8",
   "metadata": {},
   "source": [
    "id  ...                                            content\n",
    "0          0  ...  Darrell Lucus House Dem Aide: We Didn’t Even S...\n",
    "1          1  ...  Daniel J. Flynn FLYNN: Hillary Clinton, Big Wo...\n",
    "2          2  ...  Consortiumnews.com Why the Truth Might Get You...\n",
    "3          3  ...  Jessica Purkiss 15 Civilians Killed In Single ...\n",
    "4          4  ...  Howard Portnoy Iranian woman jailed for fictio...\n",
    "...      ...  ...                                                ...\n",
    "20795  20795  ...  Jerome Hudson Rapper T.I.: Trump a ’Poster Chi...\n",
    "20796  20796  ...  Benjamin Hoffman N.F.L. Playoffs: Schedule, Ma...\n",
    "20797  20797  ...  Michael J. de la Merced and Rachel Abrams Macy...\n",
    "20798  20798  ...  Alex Ansary NATO, Russia To Hold Parallel Exer...\n",
    "20799  20799  ...            David Swanson What Keeps the F-35 Alive\n",
    "\n",
    "[20800 rows x 5 columns]\n",
    "0        1\n",
    "1        0\n",
    "2        1\n",
    "3        1\n",
    "4        1\n",
    "        ..\n",
    "20795    0\n",
    "20796    0\n",
    "20797    0\n",
    "20798    1\n",
    "20799    1\n",
    "Name: label, Length: 20800, dtype: int64"
   ]
  },
  {
   "cell_type": "code",
   "execution_count": null,
   "id": "964b0bf6",
   "metadata": {},
   "outputs": [],
   "source": [
    "Stemming:\n",
    "\n",
    "Stemming is the process of reducing a word to its Root word\n",
    "\n",
    "example: actor, actress, acting --> act"
   ]
  },
  {
   "cell_type": "code",
   "execution_count": null,
   "id": "05942a3b",
   "metadata": {},
   "outputs": [],
   "source": [
    "port_stem = PorterStemmer()"
   ]
  },
  {
   "cell_type": "code",
   "execution_count": null,
   "id": "9129adcd",
   "metadata": {},
   "outputs": [],
   "source": [
    "def stemming(content):\n",
    "    stemmed_content = re.sub('[^a-zA-Z]',' ',content)\n",
    "    stemmed_content = stemmed_content.lower()\n",
    "    stemmed_content = stemmed_content.split()\n",
    "    stemmed_content = [port_stem.stem(word) for word in stemmed_content if not word in stopwords.words('english')]\n",
    "    stemmed_content = ' '.join(stemmed_content)\n",
    "    return stemmed_content"
   ]
  },
  {
   "cell_type": "code",
   "execution_count": null,
   "id": "b5429005",
   "metadata": {},
   "outputs": [],
   "source": [
    "news_dataset['content'] = news_dataset['content'].apply(stemming)"
   ]
  },
  {
   "cell_type": "code",
   "execution_count": null,
   "id": "8e968083",
   "metadata": {},
   "outputs": [],
   "source": [
    "print(news_dataset['content'])"
   ]
  },
  {
   "cell_type": "markdown",
   "id": "12886f65",
   "metadata": {},
   "source": [
    "0        darrel lucu hous dem aid even see comey letter...\n",
    "1        daniel j flynn flynn hillari clinton big woman...\n",
    "2                   consortiumnew com truth might get fire\n",
    "3        jessica purkiss civilian kill singl us airstri...\n",
    "4        howard portnoy iranian woman jail fiction unpu...\n",
    "                               ...                        \n",
    "20795    jerom hudson rapper trump poster child white s...\n",
    "20796    benjamin hoffman n f l playoff schedul matchup...\n",
    "20797    michael j de la merc rachel abram maci said re...\n",
    "20798    alex ansari nato russia hold parallel exercis ...\n",
    "20799                            david swanson keep f aliv\n",
    "Name: content, Length: 20800, dtype: object"
   ]
  },
  {
   "cell_type": "code",
   "execution_count": null,
   "id": "1364e312",
   "metadata": {},
   "outputs": [],
   "source": [
    "#separating the data and label\n",
    "X = news_dataset['content'].values\n",
    "Y = news_dataset['label'].values"
   ]
  },
  {
   "cell_type": "code",
   "execution_count": null,
   "id": "90564b29",
   "metadata": {},
   "outputs": [],
   "source": [
    "print(X)"
   ]
  },
  {
   "cell_type": "raw",
   "id": "fdf8f9e1",
   "metadata": {},
   "source": [
    "['darrel lucu hous dem aid even see comey letter jason chaffetz tweet'\n",
    " 'daniel j flynn flynn hillari clinton big woman campu breitbart'\n",
    " 'consortiumnew com truth might get fire' ...\n",
    " 'michael j de la merc rachel abram maci said receiv takeov approach hudson bay new york time'\n",
    " 'alex ansari nato russia hold parallel exercis balkan'\n",
    " 'david swanson keep f aliv']"
   ]
  },
  {
   "cell_type": "code",
   "execution_count": null,
   "id": "ee2bc5ec",
   "metadata": {},
   "outputs": [],
   "source": [
    "print(Y)"
   ]
  },
  {
   "cell_type": "raw",
   "id": "8825457a",
   "metadata": {},
   "source": [
    "[1 0 1 ... 0 1 1]"
   ]
  },
  {
   "cell_type": "code",
   "execution_count": null,
   "id": "af816f45",
   "metadata": {},
   "outputs": [],
   "source": [
    "Y.shape"
   ]
  },
  {
   "cell_type": "raw",
   "id": "58b10a84",
   "metadata": {},
   "source": [
    "(20800,)"
   ]
  },
  {
   "cell_type": "code",
   "execution_count": null,
   "id": "c7af576b",
   "metadata": {},
   "outputs": [],
   "source": [
    "# converting the textual data to numerical data\n",
    "vectorizer = TfidfVectorizer()\n",
    "vectorizer.fit(X)\n",
    "\n",
    "X = vectorizer.transform(X)"
   ]
  },
  {
   "cell_type": "code",
   "execution_count": null,
   "id": "5bd6f652",
   "metadata": {},
   "outputs": [],
   "source": [
    "print(X)"
   ]
  },
  {
   "cell_type": "raw",
   "id": "2a0e5765",
   "metadata": {},
   "source": [
    "(0, 15686)\t0.28485063562728646\n",
    "  (0, 13473)\t0.2565896679337957\n",
    "  (0, 8909)\t0.3635963806326075\n",
    "  (0, 8630)\t0.29212514087043684\n",
    "  (0, 7692)\t0.24785219520671603\n",
    "  (0, 7005)\t0.21874169089359144\n",
    "  (0, 4973)\t0.233316966909351\n",
    "  (0, 3792)\t0.2705332480845492\n",
    "  (0, 3600)\t0.3598939188262559\n",
    "  (0, 2959)\t0.2468450128533713\n",
    "  (0, 2483)\t0.3676519686797209\n",
    "  (0, 267)\t0.27010124977708766\n",
    "  (1, 16799)\t0.30071745655510157\n",
    "  (1, 6816)\t0.1904660198296849\n",
    "  (1, 5503)\t0.7143299355715573\n",
    "  (1, 3568)\t0.26373768806048464\n",
    "  (1, 2813)\t0.19094574062359204\n",
    "  (1, 2223)\t0.3827320386859759\n",
    "  (1, 1894)\t0.15521974226349364\n",
    "  (1, 1497)\t0.2939891562094648\n",
    "  (2, 15611)\t0.41544962664721613\n",
    "  (2, 9620)\t0.49351492943649944\n",
    "  (2, 5968)\t0.3474613386728292\n",
    "  (2, 5389)\t0.3866530551182615\n",
    "  (2, 3103)\t0.46097489583229645\n",
    "  :\t:\n",
    "  (20797, 13122)\t0.2482526352197606\n",
    "  (20797, 12344)\t0.27263457663336677\n",
    "  (20797, 12138)\t0.24778257724396507\n",
    "  (20797, 10306)\t0.08038079000566466\n",
    "  (20797, 9588)\t0.174553480255222\n",
    "  (20797, 9518)\t0.2954204003420313\n",
    "  (20797, 8988)\t0.36160868928090795\n",
    "  (20797, 8364)\t0.22322585870464118\n",
    "  (20797, 7042)\t0.21799048897828688\n",
    "  (20797, 3643)\t0.21155500613623743\n",
    "  (20797, 1287)\t0.33538056804139865\n",
    "  (20797, 699)\t0.30685846079762347\n",
    "  (20797, 43)\t0.29710241860700626\n",
    "  (20798, 13046)\t0.22363267488270608\n",
    "  (20798, 11052)\t0.4460515589182236\n",
    "  (20798, 10177)\t0.3192496370187028\n",
    "  (20798, 6889)\t0.32496285694299426\n",
    "  (20798, 5032)\t0.4083701450239529\n",
    "  (20798, 1125)\t0.4460515589182236\n",
    "  (20798, 588)\t0.3112141524638974\n",
    "  (20798, 350)\t0.28446937819072576\n",
    "  (20799, 14852)\t0.5677577267055112\n",
    "  (20799, 8036)\t0.45983893273780013\n",
    "  (20799, 3623)\t0.37927626273066584\n",
    "  (20799, 377)\t0.5677577267055112"
   ]
  },
  {
   "cell_type": "markdown",
   "id": "98c216ac",
   "metadata": {},
   "source": [
    "### Splitting the dataset to training & test data"
   ]
  },
  {
   "cell_type": "code",
   "execution_count": null,
   "id": "91d01f5d",
   "metadata": {},
   "outputs": [],
   "source": [
    "X_train, X_test, Y_train, Y_test = train_test_split(X, Y, test_size = 0.2, stratify=Y, random_state=2)"
   ]
  },
  {
   "cell_type": "markdown",
   "id": "57d1133e",
   "metadata": {},
   "source": [
    "## Training the Model: Logistic Regression"
   ]
  },
  {
   "cell_type": "code",
   "execution_count": null,
   "id": "eb8bdaf0",
   "metadata": {},
   "outputs": [],
   "source": [
    "model = LogisticRegression()"
   ]
  },
  {
   "cell_type": "code",
   "execution_count": null,
   "id": "af30c398",
   "metadata": {},
   "outputs": [],
   "source": [
    "model.fit(X_train, Y_train)"
   ]
  },
  {
   "cell_type": "code",
   "execution_count": null,
   "id": "d0f3ef3a",
   "metadata": {},
   "outputs": [],
   "source": [
    "LogisticRegression(C=1.0, class_weight=None, dual=False, fit_intercept=True,\n",
    "                   intercept_scaling=1, l1_ratio=None, max_iter=100,\n",
    "                   multi_class='auto', n_jobs=None, penalty='l2',\n",
    "                   random_state=None, solver='lbfgs', tol=0.0001, verbose=0,\n",
    "                   warm_start=False)"
   ]
  },
  {
   "cell_type": "markdown",
   "id": "602e15d8",
   "metadata": {},
   "source": [
    "## Evaluation"
   ]
  },
  {
   "cell_type": "markdown",
   "id": "d32e622f",
   "metadata": {},
   "source": [
    "### accuracy score"
   ]
  },
  {
   "cell_type": "code",
   "execution_count": null,
   "id": "eb9cfd5e",
   "metadata": {},
   "outputs": [],
   "source": [
    "# accuracy score on the training data\n",
    "X_train_prediction = model.predict(X_train)\n",
    "training_data_accuracy = accuracy_score(X_train_prediction, Y_train)"
   ]
  },
  {
   "cell_type": "code",
   "execution_count": null,
   "id": "d7878813",
   "metadata": {},
   "outputs": [],
   "source": [
    "print('Accuracy score of the training data : ', training_data_accuracy)"
   ]
  },
  {
   "cell_type": "markdown",
   "id": "46f7d358",
   "metadata": {},
   "source": [
    "Accuracy score of the training data :  0.9865985576923076"
   ]
  },
  {
   "cell_type": "code",
   "execution_count": null,
   "id": "6e10280f",
   "metadata": {},
   "outputs": [],
   "source": [
    "# accuracy score on the test data\n",
    "X_test_prediction = model.predict(X_test)\n",
    "test_data_accuracy = accuracy_score(X_test_prediction, Y_test)"
   ]
  },
  {
   "cell_type": "code",
   "execution_count": null,
   "id": "6fe91922",
   "metadata": {},
   "outputs": [],
   "source": [
    "print('Accuracy score of the test data : ', test_data_accuracy)"
   ]
  },
  {
   "cell_type": "markdown",
   "id": "4770e7b2",
   "metadata": {},
   "source": [
    "Accuracy score of the test data :  0.9790865384615385"
   ]
  },
  {
   "cell_type": "markdown",
   "id": "44d6daf2",
   "metadata": {},
   "source": [
    "### Making a Predictive System"
   ]
  },
  {
   "cell_type": "code",
   "execution_count": null,
   "id": "cc920ba3",
   "metadata": {},
   "outputs": [],
   "source": [
    "X_new = X_test[3]\n",
    "\n",
    "prediction = model.predict(X_new)\n",
    "print(prediction)\n",
    "\n",
    "if (prediction[0]==0):\n",
    "    print('The news is Real')\n",
    "else:\n",
    "    print('The news is Fake')"
   ]
  },
  {
   "cell_type": "raw",
   "id": "62f8b15d",
   "metadata": {},
   "source": [
    "[0]\n",
    "The news is Real"
   ]
  },
  {
   "cell_type": "code",
   "execution_count": null,
   "id": "00cc2cbd",
   "metadata": {},
   "outputs": [],
   "source": [
    "print(Y_test[3])"
   ]
  },
  {
   "cell_type": "markdown",
   "id": "04e5db94",
   "metadata": {},
   "source": [
    "0"
   ]
  },
  {
   "cell_type": "code",
   "execution_count": null,
   "id": "69ed98a4",
   "metadata": {},
   "outputs": [],
   "source": []
  },
  {
   "cell_type": "code",
   "execution_count": null,
   "id": "62741312",
   "metadata": {},
   "outputs": [],
   "source": []
  },
  {
   "cell_type": "code",
   "execution_count": null,
   "id": "ac3e5da6",
   "metadata": {},
   "outputs": [],
   "source": []
  }
 ],
 "metadata": {
  "kernelspec": {
   "display_name": "Python 3 (ipykernel)",
   "language": "python",
   "name": "python3"
  },
  "language_info": {
   "codemirror_mode": {
    "name": "ipython",
    "version": 3
   },
   "file_extension": ".py",
   "mimetype": "text/x-python",
   "name": "python",
   "nbconvert_exporter": "python",
   "pygments_lexer": "ipython3",
   "version": "3.9.12"
  }
 },
 "nbformat": 4,
 "nbformat_minor": 5
}
